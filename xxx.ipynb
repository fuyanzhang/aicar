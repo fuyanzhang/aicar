{
 "cells": [
  {
   "cell_type": "markdown",
   "metadata": {},
   "source": [
    "# 你好"
   ]
  },
  {
   "cell_type": "markdown",
   "metadata": {},
   "source": []
  },
  {
   "cell_type": "code",
   "execution_count": 5,
   "metadata": {},
   "outputs": [
    {
     "name": "stdout",
     "output_type": "stream",
     "text": [
      "44100\n",
      "(12195708, 2)\n"
     ]
    },
    {
     "ename": "IndexError",
     "evalue": "boolean index did not match indexed array along dimension 0; dimension is 12195708 but corresponding boolean dimension is 24391416",
     "output_type": "error",
     "traceback": [
      "\u001b[0;31m---------------------------------------------------------------------------\u001b[0m",
      "\u001b[0;31mIndexError\u001b[0m                                Traceback (most recent call last)",
      "\u001b[0;32m<ipython-input-5-58fcea09388b>\u001b[0m in \u001b[0;36m<module>\u001b[0;34m\u001b[0m\n\u001b[1;32m     28\u001b[0m \u001b[0mplt\u001b[0m\u001b[0;34m.\u001b[0m\u001b[0mtick_params\u001b[0m\u001b[0;34m(\u001b[0m\u001b[0mlabelsize\u001b[0m\u001b[0;34m=\u001b[0m\u001b[0;36m10\u001b[0m\u001b[0;34m)\u001b[0m\u001b[0;34m\u001b[0m\u001b[0m\n\u001b[1;32m     29\u001b[0m \u001b[0mplt\u001b[0m\u001b[0;34m.\u001b[0m\u001b[0mgrid\u001b[0m\u001b[0;34m(\u001b[0m\u001b[0mlinestyle\u001b[0m\u001b[0;34m=\u001b[0m\u001b[0;34m':'\u001b[0m\u001b[0;34m)\u001b[0m\u001b[0;34m\u001b[0m\u001b[0m\n\u001b[0;32m---> 30\u001b[0;31m \u001b[0mplt\u001b[0m\u001b[0;34m.\u001b[0m\u001b[0mplot\u001b[0m\u001b[0;34m(\u001b[0m\u001b[0mfreqs\u001b[0m\u001b[0;34m[\u001b[0m\u001b[0mfreqs\u001b[0m \u001b[0;34m>=\u001b[0m \u001b[0;36m0\u001b[0m\u001b[0;34m]\u001b[0m\u001b[0;34m,\u001b[0m \u001b[0mpows\u001b[0m\u001b[0;34m[\u001b[0m\u001b[0mfreqs\u001b[0m \u001b[0;34m>=\u001b[0m \u001b[0;36m0\u001b[0m\u001b[0;34m]\u001b[0m\u001b[0;34m,\u001b[0m \u001b[0mc\u001b[0m\u001b[0;34m=\u001b[0m\u001b[0;34m'orangered'\u001b[0m\u001b[0;34m,\u001b[0m \u001b[0mlabel\u001b[0m\u001b[0;34m=\u001b[0m\u001b[0;34m'Power'\u001b[0m\u001b[0;34m)\u001b[0m\u001b[0;34m\u001b[0m\u001b[0m\n\u001b[0m\u001b[1;32m     31\u001b[0m \u001b[0mplt\u001b[0m\u001b[0;34m.\u001b[0m\u001b[0mlegend\u001b[0m\u001b[0;34m(\u001b[0m\u001b[0;34m)\u001b[0m\u001b[0;34m\u001b[0m\u001b[0m\n\u001b[1;32m     32\u001b[0m \u001b[0mplt\u001b[0m\u001b[0;34m.\u001b[0m\u001b[0mtight_layout\u001b[0m\u001b[0;34m(\u001b[0m\u001b[0;34m)\u001b[0m\u001b[0;34m\u001b[0m\u001b[0m\n",
      "\u001b[0;31mIndexError\u001b[0m: boolean index did not match indexed array along dimension 0; dimension is 12195708 but corresponding boolean dimension is 24391416"
     ]
    }
   ],
   "source": [
    "# -*- encoding:utf-8 -*-\n",
    "import numpy as np\n",
    "import numpy.fft as nf\n",
    "import scipy.io.wavfile as wf\n",
    "import matplotlib.pyplot as plt\n",
    "\n",
    "sample_rate, sigs = wf.read('data/qpd.wav')\n",
    "print(sample_rate)      # 8000采样率\n",
    "print(sigs.shape)   # (3251,)\n",
    "sigs = sigs / (2 ** 15) # 归一化\n",
    "times = np.arange(len(sigs)) / sample_rate\n",
    "freqs = nf.fftfreq(sigs.size, 1 / sample_rate)\n",
    "ffts = nf.fft(sigs)\n",
    "pows = np.abs(ffts)\n",
    "plt.figure('Audio')\n",
    "plt.subplot(121)\n",
    "plt.title('Time Domain')\n",
    "plt.xlabel('Time', fontsize=12)\n",
    "plt.ylabel('Signal', fontsize=12)\n",
    "plt.tick_params(labelsize=10)\n",
    "plt.grid(linestyle=':')\n",
    "plt.plot(times, sigs, c='dodgerblue', label='Signal')\n",
    "plt.legend()\n",
    "plt.subplot(122)\n",
    "plt.title('Frequency Domain')\n",
    "plt.xlabel('Frequency', fontsize=12)\n",
    "plt.ylabel('Power', fontsize=12)\n",
    "plt.tick_params(labelsize=10)\n",
    "plt.grid(linestyle=':')\n",
    "plt.plot(freqs[freqs >= 0], pows[freqs >= 0], c='orangered', label='Power')\n",
    "plt.legend()\n",
    "plt.tight_layout()\n",
    "plt.show()        "
   ]
  },
  {
   "cell_type": "code",
   "execution_count": 6,
   "metadata": {},
   "outputs": [
    {
     "name": "stderr",
     "output_type": "stream",
     "text": [
      "/home/fuyanzhang/.local/lib/python3.5/site-packages/ipykernel_launcher.py:26: DeprecationWarning: The binary mode of fromstring is deprecated, as it behaves surprisingly on unicode inputs. Use frombuffer instead\n"
     ]
    },
    {
     "data": {
      "image/png": "[encoded data removed]",
      "text/plain": [
       "<Figure size 432x288 with 2 Axes>"
      ]
     },
     "metadata": {
      "needs_background": "light"
     },
     "output_type": "display_data"
    }
   ],
   "source": [
    "# -*- coding: utf-8 -*-\n",
    "# 读Wave文件并且绘制波形\n",
    "import wave\n",
    "import matplotlib.pyplot as plt\n",
    "import numpy as np\n",
    "\n",
    "# 打开WAV音频\n",
    "f = wave.open(r\"data/qpd.wav\", \"rb\")\n",
    "\n",
    "# 读取格式信息\n",
    "# (声道数、量化位数、采样频率、采样点数、压缩类型、压缩类型的描述)\n",
    "# (nchannels, sampwidth, framerate, nframes, comptype, compname)\n",
    "params = f.getparams()\n",
    "nchannels, sampwidth, framerate, nframes = params[:4]\n",
    "# nchannels通道数 = 2\n",
    "# sampwidth量化位数 = 2\n",
    "# framerate采样频率 = 22050\n",
    "# nframes采样点数 = 53395\n",
    "\n",
    "# 读取nframes个数据，返回字符串格式\n",
    "str_data = f.readframes(nframes)\n",
    "\n",
    "f.close()\n",
    "\n",
    "#将字符串转换为数组，得到一维的short类型的数组\n",
    "wave_data = np.fromstring(str_data, dtype=np.short)\n",
    "\n",
    "# 赋值的归一化\n",
    "wave_data = wave_data*1.0/(max(abs(wave_data)))\n",
    "\n",
    "# 整合左声道和右声道的数据\n",
    "wave_data = np.reshape(wave_data,[nframes,nchannels])\n",
    "# wave_data.shape = (-1, 2)   # -1的意思就是没有指定,根据另一个维度的数量进行分割\n",
    "\n",
    "# 最后通过采样点数和取样频率计算出每个取样的时间\n",
    "time = np.arange(0, nframes) * (1.0 / framerate)\n",
    "\n",
    "plt.figure()\n",
    "# 左声道波形\n",
    "plt.subplot(3,1,1)\n",
    "plt.plot(time, wave_data[:,0])\n",
    "plt.xlabel(\"time (seconds)\")\n",
    "plt.ylabel(\"Amplitude\")\n",
    "plt.title(\"Left channel\")\n",
    "plt.grid()  # 标尺\n",
    "\n",
    "plt.subplot(3,1,3)\n",
    "# 右声道波形\n",
    "plt.plot(time, wave_data[:,1], c=\"g\")\n",
    "plt.xlabel(\"time (seconds)\")\n",
    "plt.ylabel(\"Amplitude\")\n",
    "plt.title(\"Left channel\")\n",
    "plt.title(\"right channel\")\n",
    "plt.grid()\n",
    "\n",
    "plt.show()"
   ]
  },
  {
   "cell_type": "code",
   "execution_count": null,
   "metadata": {},
   "outputs": [],
   "source": []
  }
 ],
 "metadata": {
  "kernelspec": {
   "display_name": "Python 3",
   "language": "python",
   "name": "python3"
  },
  "language_info": {
   "codemirror_mode": {
    "name": "ipython",
    "version": 3
   },
   "file_extension": ".py",
   "mimetype": "text/x-python",
   "name": "python",
   "nbconvert_exporter": "python",
   "pygments_lexer": "ipython3",
   "version": "3.5.2"
  }
 },
 "nbformat": 4,
 "nbformat_minor": 4
}
